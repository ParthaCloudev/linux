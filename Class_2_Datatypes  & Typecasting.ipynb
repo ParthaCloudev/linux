{
 "cells": [
  {
   "cell_type": "markdown",
   "id": "20be2cc4",
   "metadata": {},
   "source": [
    "# Data types"
   ]
  },
  {
   "cell_type": "markdown",
   "id": "5d9289dd",
   "metadata": {},
   "source": [
    "- A data type is the classification of the value that a variable contains"
   ]
  },
  {
   "cell_type": "markdown",
   "id": "bcc67a60",
   "metadata": {},
   "source": [
    "# Types"
   ]
  },
  {
   "cell_type": "markdown",
   "id": "752e0970",
   "metadata": {},
   "source": [
    "- Basic datatypes\n",
    "- Derived datatypes"
   ]
  },
  {
   "cell_type": "markdown",
   "id": "56b76d8b",
   "metadata": {},
   "source": [
    "# int "
   ]
  },
  {
   "cell_type": "code",
   "execution_count": 2,
   "id": "e79515e6",
   "metadata": {},
   "outputs": [],
   "source": [
    "# int - all numbers +ve,0 or -ve without a decimal points."
   ]
  },
  {
   "cell_type": "code",
   "execution_count": 3,
   "id": "c5568ffd",
   "metadata": {},
   "outputs": [
    {
     "name": "stdout",
     "output_type": "stream",
     "text": [
      "10 <class 'int'>\n"
     ]
    }
   ],
   "source": [
    "a=10\n",
    "print(a,type(a))"
   ]
  },
  {
   "cell_type": "code",
   "execution_count": 4,
   "id": "3edcc7df",
   "metadata": {},
   "outputs": [
    {
     "name": "stdout",
     "output_type": "stream",
     "text": [
      "0 <class 'int'>\n"
     ]
    }
   ],
   "source": [
    "a=0\n",
    "print(a,type(a))"
   ]
  },
  {
   "cell_type": "code",
   "execution_count": 5,
   "id": "624b5b0a",
   "metadata": {},
   "outputs": [
    {
     "name": "stdout",
     "output_type": "stream",
     "text": [
      "-100 <class 'int'>\n"
     ]
    }
   ],
   "source": [
    "a=-100\n",
    "print(a,type(a))"
   ]
  },
  {
   "cell_type": "markdown",
   "id": "6f889484",
   "metadata": {},
   "source": [
    "# Float"
   ]
  },
  {
   "cell_type": "code",
   "execution_count": 6,
   "id": "18cf7efe",
   "metadata": {},
   "outputs": [],
   "source": [
    "# float - all numbers +ve,0 or -ve with a decimal point is float."
   ]
  },
  {
   "cell_type": "code",
   "execution_count": 7,
   "id": "c808fb4d",
   "metadata": {},
   "outputs": [
    {
     "name": "stdout",
     "output_type": "stream",
     "text": [
      "2.5 <class 'float'>\n"
     ]
    }
   ],
   "source": [
    "a=2.5\n",
    "print(a,type(a))"
   ]
  },
  {
   "cell_type": "code",
   "execution_count": 8,
   "id": "6ba3f330",
   "metadata": {},
   "outputs": [
    {
     "name": "stdout",
     "output_type": "stream",
     "text": [
      "0.0 <class 'float'>\n"
     ]
    }
   ],
   "source": [
    "a=0.0\n",
    "print(a,type(a))"
   ]
  },
  {
   "cell_type": "code",
   "execution_count": 9,
   "id": "f763ab2f",
   "metadata": {},
   "outputs": [
    {
     "name": "stdout",
     "output_type": "stream",
     "text": [
      "-1.8 <class 'float'>\n"
     ]
    }
   ],
   "source": [
    "a=-1.8\n",
    "print(a,type(a))"
   ]
  },
  {
   "cell_type": "markdown",
   "id": "f565cb25",
   "metadata": {},
   "source": [
    "# string"
   ]
  },
  {
   "cell_type": "code",
   "execution_count": 10,
   "id": "fe15fb1e",
   "metadata": {},
   "outputs": [],
   "source": [
    "# string - Anything kept inside the ' ',\" \",''' ''',\"\"\" \"\"\", is a string value"
   ]
  },
  {
   "cell_type": "code",
   "execution_count": 13,
   "id": "a569e647",
   "metadata": {},
   "outputs": [
    {
     "ename": "SyntaxError",
     "evalue": "invalid syntax (4017147521.py, line 1)",
     "output_type": "error",
     "traceback": [
      "\u001b[1;36m  File \u001b[1;32m\"C:\\Users\\faisal\\AppData\\Local\\Temp\\ipykernel_22376\\4017147521.py\"\u001b[1;36m, line \u001b[1;32m1\u001b[0m\n\u001b[1;33m    a='Python's'\u001b[0m\n\u001b[1;37m              ^\u001b[0m\n\u001b[1;31mSyntaxError\u001b[0m\u001b[1;31m:\u001b[0m invalid syntax\n"
     ]
    }
   ],
   "source": [
    "a='Python's'\n",
    "print(a,type(a))"
   ]
  },
  {
   "cell_type": "code",
   "execution_count": 14,
   "id": "b3e6036c",
   "metadata": {},
   "outputs": [
    {
     "name": "stdout",
     "output_type": "stream",
     "text": [
      "Python's <class 'str'>\n"
     ]
    }
   ],
   "source": [
    "b=\"Python's\"\n",
    "print(b,type(b))"
   ]
  },
  {
   "cell_type": "code",
   "execution_count": 18,
   "id": "d1873209",
   "metadata": {},
   "outputs": [
    {
     "name": "stdout",
     "output_type": "stream",
     "text": [
      "Python\n"
     ]
    }
   ],
   "source": [
    "print(a)"
   ]
  },
  {
   "cell_type": "code",
   "execution_count": 19,
   "id": "8abe442f",
   "metadata": {},
   "outputs": [
    {
     "name": "stdout",
     "output_type": "stream",
     "text": [
      "Python <class 'str'>\n"
     ]
    }
   ],
   "source": [
    "a='''Python'''\n",
    "print(a,type(a))"
   ]
  },
  {
   "cell_type": "code",
   "execution_count": 20,
   "id": "0e2e8ccc",
   "metadata": {},
   "outputs": [
    {
     "name": "stdout",
     "output_type": "stream",
     "text": [
      "10 <class 'str'>\n"
     ]
    }
   ],
   "source": [
    "a='10'\n",
    "print(a,type(a))"
   ]
  },
  {
   "cell_type": "code",
   "execution_count": 21,
   "id": "1c0e0415",
   "metadata": {},
   "outputs": [
    {
     "name": "stdout",
     "output_type": "stream",
     "text": [
      "Python's class <class 'str'>\n"
     ]
    }
   ],
   "source": [
    "# Output - Python's class\n",
    "\n",
    "a=\"Python's class\"\n",
    "print(a,type(a))"
   ]
  },
  {
   "cell_type": "code",
   "execution_count": 24,
   "id": "0c6798a9",
   "metadata": {},
   "outputs": [
    {
     "name": "stdout",
     "output_type": "stream",
     "text": [
      "This is \"Python\" class\n"
     ]
    }
   ],
   "source": [
    "#Output - This is \"Python\" class\n",
    "c1='This is \"Python\" class'\n",
    "print(c1)"
   ]
  },
  {
   "cell_type": "code",
   "execution_count": 26,
   "id": "49fd6c61",
   "metadata": {},
   "outputs": [
    {
     "name": "stdout",
     "output_type": "stream",
     "text": [
      "Hello everyone.\n",
      "This is python class\n",
      "Python is easy\n"
     ]
    }
   ],
   "source": [
    "a_1='''Hello everyone.\n",
    "This is python class\n",
    "Python is easy'''\n",
    "print(a_1)"
   ]
  },
  {
   "cell_type": "code",
   "execution_count": 27,
   "id": "46d76ef3",
   "metadata": {},
   "outputs": [
    {
     "name": "stdout",
     "output_type": "stream",
     "text": [
      "This is Python class\n",
      "Goodmorning everyone\n"
     ]
    }
   ],
   "source": [
    "_b=\"\"\"This is Python class\n",
    "Goodmorning everyone\"\"\"\n",
    "print(_b)"
   ]
  },
  {
   "cell_type": "markdown",
   "id": "68408f36",
   "metadata": {},
   "source": [
    "# Complex"
   ]
  },
  {
   "cell_type": "code",
   "execution_count": 28,
   "id": "b988eddb",
   "metadata": {},
   "outputs": [],
   "source": [
    "# a+bj is the complex value\n",
    "# Where a is a real number and b is imaginary number \n",
    "# a and b can be int or float"
   ]
  },
  {
   "cell_type": "code",
   "execution_count": 31,
   "id": "1ef802e4",
   "metadata": {},
   "outputs": [
    {
     "name": "stdout",
     "output_type": "stream",
     "text": [
      "(10+20j) <class 'complex'>\n",
      "10.0\n",
      "20.0\n"
     ]
    }
   ],
   "source": [
    "a=10+20j\n",
    "print(a,type(a))\n",
    "\n",
    "print(a.real)\n",
    "print(a.imag)"
   ]
  },
  {
   "cell_type": "code",
   "execution_count": 32,
   "id": "b5ce54d2",
   "metadata": {},
   "outputs": [
    {
     "name": "stdout",
     "output_type": "stream",
     "text": [
      "(10+20j) <class 'complex'>\n"
     ]
    }
   ],
   "source": [
    "x=2.5+3j\n",
    "print(a,type(a))"
   ]
  },
  {
   "cell_type": "code",
   "execution_count": 33,
   "id": "f9779dee",
   "metadata": {},
   "outputs": [
    {
     "name": "stdout",
     "output_type": "stream",
     "text": [
      "(100+200j) <class 'complex'>\n"
     ]
    }
   ],
   "source": [
    "a=100+200j\n",
    "print(a,type(a))"
   ]
  },
  {
   "cell_type": "code",
   "execution_count": 34,
   "id": "72add498",
   "metadata": {},
   "outputs": [
    {
     "name": "stdout",
     "output_type": "stream",
     "text": [
      "(100+200j) <class 'complex'>\n"
     ]
    }
   ],
   "source": [
    "x=2.5+3j\n",
    "print(a,type(a))"
   ]
  },
  {
   "cell_type": "code",
   "execution_count": 37,
   "id": "03135796",
   "metadata": {},
   "outputs": [
    {
     "name": "stdout",
     "output_type": "stream",
     "text": [
      "(100+200j) <class 'complex'>\n",
      "<class 'complex'>\n"
     ]
    }
   ],
   "source": [
    "x=2.5+3j\n",
    "print(a,type(x))\n",
    "print(type(x))"
   ]
  },
  {
   "cell_type": "code",
   "execution_count": 38,
   "id": "53027103",
   "metadata": {},
   "outputs": [
    {
     "name": "stdout",
     "output_type": "stream",
     "text": [
      "10j <class 'complex'>\n"
     ]
    }
   ],
   "source": [
    "a=10j\n",
    "print(a,type(a))"
   ]
  },
  {
   "cell_type": "markdown",
   "id": "0056197d",
   "metadata": {},
   "source": [
    "# Boolean "
   ]
  },
  {
   "cell_type": "code",
   "execution_count": null,
   "id": "01111164",
   "metadata": {},
   "outputs": [],
   "source": [
    "# True and False are the boolean values"
   ]
  },
  {
   "cell_type": "code",
   "execution_count": 39,
   "id": "82574a48",
   "metadata": {},
   "outputs": [
    {
     "name": "stdout",
     "output_type": "stream",
     "text": [
      "True <class 'bool'>\n"
     ]
    }
   ],
   "source": [
    "a=True\n",
    "print(a,type(a))"
   ]
  },
  {
   "cell_type": "code",
   "execution_count": 43,
   "id": "4ae48509",
   "metadata": {},
   "outputs": [
    {
     "ename": "NameError",
     "evalue": "name 'truejfldmd' is not defined",
     "output_type": "error",
     "traceback": [
      "\u001b[1;31m---------------------------------------------------------------------------\u001b[0m",
      "\u001b[1;31mNameError\u001b[0m                                 Traceback (most recent call last)",
      "\u001b[1;32m~\\AppData\\Local\\Temp\\ipykernel_22376\\1575119839.py\u001b[0m in \u001b[0;36m<module>\u001b[1;34m\u001b[0m\n\u001b[1;32m----> 1\u001b[1;33m \u001b[0ma\u001b[0m\u001b[1;33m=\u001b[0m\u001b[0mtruejfldmd\u001b[0m\u001b[1;33m\u001b[0m\u001b[1;33m\u001b[0m\u001b[0m\n\u001b[0m\u001b[0;32m      2\u001b[0m \u001b[0mprint\u001b[0m\u001b[1;33m(\u001b[0m\u001b[0ma\u001b[0m\u001b[1;33m,\u001b[0m\u001b[0mtype\u001b[0m\u001b[1;33m(\u001b[0m\u001b[0ma\u001b[0m\u001b[1;33m)\u001b[0m\u001b[1;33m)\u001b[0m\u001b[1;33m\u001b[0m\u001b[1;33m\u001b[0m\u001b[0m\n",
      "\u001b[1;31mNameError\u001b[0m: name 'truejfldmd' is not defined"
     ]
    }
   ],
   "source": [
    "a=truejfldmd\n",
    "print(a,type(a))"
   ]
  },
  {
   "cell_type": "code",
   "execution_count": 44,
   "id": "d76ba92f",
   "metadata": {},
   "outputs": [],
   "source": [
    "# True - 1\n",
    "# False - 0"
   ]
  },
  {
   "cell_type": "code",
   "execution_count": 45,
   "id": "74a0405b",
   "metadata": {},
   "outputs": [
    {
     "data": {
      "text/plain": [
       "2"
      ]
     },
     "execution_count": 45,
     "metadata": {},
     "output_type": "execute_result"
    }
   ],
   "source": [
    "True + True"
   ]
  },
  {
   "cell_type": "code",
   "execution_count": 46,
   "id": "c33a01e9",
   "metadata": {},
   "outputs": [
    {
     "data": {
      "text/plain": [
       "0"
      ]
     },
     "execution_count": 46,
     "metadata": {},
     "output_type": "execute_result"
    }
   ],
   "source": [
    "False+False"
   ]
  },
  {
   "cell_type": "code",
   "execution_count": 47,
   "id": "61e07db1",
   "metadata": {},
   "outputs": [
    {
     "data": {
      "text/plain": [
       "1"
      ]
     },
     "execution_count": 47,
     "metadata": {},
     "output_type": "execute_result"
    }
   ],
   "source": [
    "True - False"
   ]
  },
  {
   "cell_type": "code",
   "execution_count": 52,
   "id": "6bebc292",
   "metadata": {},
   "outputs": [
    {
     "data": {
      "text/plain": [
       "-1"
      ]
     },
     "execution_count": 52,
     "metadata": {},
     "output_type": "execute_result"
    }
   ],
   "source": [
    "False - True"
   ]
  },
  {
   "cell_type": "markdown",
   "id": "930c5785",
   "metadata": {},
   "source": [
    "# Nonetype"
   ]
  },
  {
   "cell_type": "code",
   "execution_count": 48,
   "id": "bc0706a1",
   "metadata": {},
   "outputs": [],
   "source": [
    "#It is used to represent the null or missing values"
   ]
  },
  {
   "cell_type": "code",
   "execution_count": 49,
   "id": "38f04739",
   "metadata": {},
   "outputs": [
    {
     "name": "stdout",
     "output_type": "stream",
     "text": [
      "None <class 'NoneType'>\n"
     ]
    }
   ],
   "source": [
    "a=None\n",
    "print(a,type(a))"
   ]
  },
  {
   "cell_type": "code",
   "execution_count": 51,
   "id": "44ad9334",
   "metadata": {},
   "outputs": [
    {
     "name": "stdout",
     "output_type": "stream",
     "text": [
      "Rohit 26 None Data\n"
     ]
    }
   ],
   "source": [
    "Name='Rohit'\n",
    "Code=None\n",
    "Age=26\n",
    "Department='Data'\n",
    "\n",
    "print(Name,Age,Code,Department)"
   ]
  },
  {
   "cell_type": "markdown",
   "id": "59f6b897",
   "metadata": {},
   "source": [
    "# Derived Datatypes"
   ]
  },
  {
   "cell_type": "markdown",
   "id": "9c74a316",
   "metadata": {},
   "source": [
    "# List"
   ]
  },
  {
   "cell_type": "code",
   "execution_count": 53,
   "id": "3e4f9fad",
   "metadata": {},
   "outputs": [],
   "source": [
    "# Anything kept inside the [] is a list\n",
    "# A list is a container type that contain heterogenous values"
   ]
  },
  {
   "cell_type": "code",
   "execution_count": 54,
   "id": "b15829c9",
   "metadata": {},
   "outputs": [
    {
     "name": "stdout",
     "output_type": "stream",
     "text": [
      "[1, 2, 3, 4, 5] <class 'list'>\n"
     ]
    }
   ],
   "source": [
    "a=[1,2,3,4,5]\n",
    "print(a,type(a))"
   ]
  },
  {
   "cell_type": "code",
   "execution_count": 55,
   "id": "2266dd0e",
   "metadata": {},
   "outputs": [
    {
     "name": "stdout",
     "output_type": "stream",
     "text": [
      "[100, 200, 3, 4, 10] <class 'list'>\n"
     ]
    }
   ],
   "source": [
    "a=[100,200,3,4,10]\n",
    "print(a,type(a))"
   ]
  },
  {
   "cell_type": "code",
   "execution_count": 56,
   "id": "f6f7869e",
   "metadata": {},
   "outputs": [
    {
     "data": {
      "text/plain": [
       "5"
      ]
     },
     "execution_count": 56,
     "metadata": {},
     "output_type": "execute_result"
    }
   ],
   "source": [
    "len(a)"
   ]
  },
  {
   "cell_type": "code",
   "execution_count": 57,
   "id": "2ff5018f",
   "metadata": {},
   "outputs": [
    {
     "name": "stdout",
     "output_type": "stream",
     "text": [
      "[10, 5.5, (10+20j), 'Python', True, None, False] <class 'list'>\n"
     ]
    }
   ],
   "source": [
    "a=[10,5.5,10+20j,'Python',True,None,False]\n",
    "print(a,type(a))"
   ]
  },
  {
   "cell_type": "markdown",
   "id": "f526ab73",
   "metadata": {},
   "source": [
    "# Tuple"
   ]
  },
  {
   "cell_type": "code",
   "execution_count": 58,
   "id": "783aa557",
   "metadata": {},
   "outputs": [],
   "source": [
    "#Anything kept inside the () is known as a tuple\n",
    "#it is a container type that can contain heterogenous elements"
   ]
  },
  {
   "cell_type": "code",
   "execution_count": 60,
   "id": "824e6d79",
   "metadata": {},
   "outputs": [
    {
     "name": "stdout",
     "output_type": "stream",
     "text": [
      "(1, 2, 3, 4, 5) <class 'tuple'>\n",
      "(10, 5.5, (10+20j), 'Python', True, None, False) <class 'tuple'>\n"
     ]
    }
   ],
   "source": [
    "a=(1,2,3,4,5)\n",
    "print(a,type(a))\n",
    "\n",
    "a=(10,5.5,10+20j,'Python',True,None,False)\n",
    "print(a,type(a))"
   ]
  },
  {
   "cell_type": "markdown",
   "id": "a30516c2",
   "metadata": {},
   "source": [
    "# List vs Tuple"
   ]
  },
  {
   "cell_type": "markdown",
   "id": "2357b42c",
   "metadata": {},
   "source": [
    "- List is mutable whereas tuple is immutable\n",
    "- Mutable means we can modify the values\n",
    "- Immutable means we cannot modify the values"
   ]
  },
  {
   "cell_type": "code",
   "execution_count": 61,
   "id": "bfb602af",
   "metadata": {},
   "outputs": [],
   "source": [
    "a=[1,2,3,4,5]"
   ]
  },
  {
   "cell_type": "code",
   "execution_count": 63,
   "id": "b6e0a8cd",
   "metadata": {},
   "outputs": [
    {
     "name": "stdout",
     "output_type": "stream",
     "text": [
      "[1, 2, 300, 4, 5]\n",
      "[19, 2, 300, 4, 5]\n"
     ]
    }
   ],
   "source": [
    "a[2]=300\n",
    "print(a)\n",
    "\n",
    "a[0]=19\n",
    "print(a)"
   ]
  },
  {
   "cell_type": "code",
   "execution_count": 67,
   "id": "14d672b4",
   "metadata": {},
   "outputs": [
    {
     "name": "stdout",
     "output_type": "stream",
     "text": [
      "10\n"
     ]
    },
    {
     "data": {
      "text/plain": [
       "False"
      ]
     },
     "execution_count": 67,
     "metadata": {},
     "output_type": "execute_result"
    }
   ],
   "source": [
    "a=(10,5.5,10+20j,'Python',True,None,False)\n",
    "print(a[0])\n",
    "a[6]"
   ]
  },
  {
   "cell_type": "code",
   "execution_count": 68,
   "id": "137dee8f",
   "metadata": {},
   "outputs": [],
   "source": [
    "a=(10,5.5,10+20j,'Python',True,None,False)"
   ]
  },
  {
   "cell_type": "code",
   "execution_count": 69,
   "id": "3415eb8a",
   "metadata": {},
   "outputs": [
    {
     "ename": "TypeError",
     "evalue": "'tuple' object does not support item assignment",
     "output_type": "error",
     "traceback": [
      "\u001b[1;31m---------------------------------------------------------------------------\u001b[0m",
      "\u001b[1;31mTypeError\u001b[0m                                 Traceback (most recent call last)",
      "\u001b[1;32m~\\AppData\\Local\\Temp\\ipykernel_22376\\2967698407.py\u001b[0m in \u001b[0;36m<module>\u001b[1;34m\u001b[0m\n\u001b[1;32m----> 1\u001b[1;33m \u001b[0ma\u001b[0m\u001b[1;33m[\u001b[0m\u001b[1;36m2\u001b[0m\u001b[1;33m]\u001b[0m\u001b[1;33m=\u001b[0m\u001b[1;36m300\u001b[0m\u001b[1;33m\u001b[0m\u001b[1;33m\u001b[0m\u001b[0m\n\u001b[0m",
      "\u001b[1;31mTypeError\u001b[0m: 'tuple' object does not support item assignment"
     ]
    }
   ],
   "source": [
    "a[2]=300"
   ]
  },
  {
   "cell_type": "markdown",
   "id": "121ade5f",
   "metadata": {},
   "source": [
    "# Dictionary"
   ]
  },
  {
   "cell_type": "code",
   "execution_count": 70,
   "id": "a0d6af93",
   "metadata": {},
   "outputs": [],
   "source": [
    "#Anything kept inside the {} in the form of key:value pair is known as a dictionary\n",
    "#Every key value pair is seperated by a coma"
   ]
  },
  {
   "cell_type": "code",
   "execution_count": 72,
   "id": "fb2ebe5e",
   "metadata": {},
   "outputs": [
    {
     "name": "stdout",
     "output_type": "stream",
     "text": [
      "{1: 100, 'Name': 'Ramesh', 'ID': 101, 'city': 'Mumbai'} <class 'dict'>\n"
     ]
    }
   ],
   "source": [
    "d={1:100,'Name':'Ramesh','ID':101,'city':'Mumbai'}\n",
    "print(d,type(d))"
   ]
  },
  {
   "cell_type": "code",
   "execution_count": 73,
   "id": "d3dc8482",
   "metadata": {},
   "outputs": [
    {
     "data": {
      "text/plain": [
       "'Ramesh'"
      ]
     },
     "execution_count": 73,
     "metadata": {},
     "output_type": "execute_result"
    }
   ],
   "source": [
    "d['Name']"
   ]
  },
  {
   "cell_type": "code",
   "execution_count": 74,
   "id": "1eca6a90",
   "metadata": {},
   "outputs": [
    {
     "data": {
      "text/plain": [
       "101"
      ]
     },
     "execution_count": 74,
     "metadata": {},
     "output_type": "execute_result"
    }
   ],
   "source": [
    "d['ID']"
   ]
  },
  {
   "cell_type": "code",
   "execution_count": 76,
   "id": "20fc1243",
   "metadata": {},
   "outputs": [
    {
     "data": {
      "text/plain": [
       "dict_keys([1, 'Name', 'ID', 'city'])"
      ]
     },
     "execution_count": 76,
     "metadata": {},
     "output_type": "execute_result"
    }
   ],
   "source": [
    "d.keys()"
   ]
  },
  {
   "cell_type": "code",
   "execution_count": 77,
   "id": "ec9cbc0f",
   "metadata": {},
   "outputs": [
    {
     "data": {
      "text/plain": [
       "dict_values([100, 'Ramesh', 101, 'Mumbai'])"
      ]
     },
     "execution_count": 77,
     "metadata": {},
     "output_type": "execute_result"
    }
   ],
   "source": [
    "d.values()"
   ]
  },
  {
   "cell_type": "code",
   "execution_count": 78,
   "id": "9bfb8855",
   "metadata": {},
   "outputs": [],
   "source": [
    "d['Name']='Tannu'"
   ]
  },
  {
   "cell_type": "code",
   "execution_count": 79,
   "id": "9588e6d9",
   "metadata": {},
   "outputs": [
    {
     "data": {
      "text/plain": [
       "{1: 100, 'Name': 'Tannu', 'ID': 101, 'city': 'Mumbai'}"
      ]
     },
     "execution_count": 79,
     "metadata": {},
     "output_type": "execute_result"
    }
   ],
   "source": [
    "d"
   ]
  },
  {
   "cell_type": "code",
   "execution_count": 80,
   "id": "400bc84c",
   "metadata": {},
   "outputs": [],
   "source": [
    "d['ID']=110"
   ]
  },
  {
   "cell_type": "code",
   "execution_count": 81,
   "id": "5494394a",
   "metadata": {},
   "outputs": [
    {
     "data": {
      "text/plain": [
       "{1: 100, 'Name': 'Tannu', 'ID': 110, 'city': 'Mumbai'}"
      ]
     },
     "execution_count": 81,
     "metadata": {},
     "output_type": "execute_result"
    }
   ],
   "source": [
    "d"
   ]
  },
  {
   "cell_type": "code",
   "execution_count": 82,
   "id": "1abe6e00",
   "metadata": {},
   "outputs": [
    {
     "name": "stdout",
     "output_type": "stream",
     "text": [
      "{1: 100, 'Name': 'Ramesh', 'ID': 101, 'city': 'Mumbai'}\n"
     ]
    }
   ],
   "source": [
    "d={1:100,'Name':'Ramesh','ID':101,'city':'Mumbai'}\n",
    "print(d)"
   ]
  },
  {
   "cell_type": "code",
   "execution_count": 83,
   "id": "d1dedc9f",
   "metadata": {},
   "outputs": [
    {
     "data": {
      "text/plain": [
       "{1: 100, 'Name': 'Ramesh', 'ID': 101, 'city': 'Mumbai'}"
      ]
     },
     "execution_count": 83,
     "metadata": {},
     "output_type": "execute_result"
    }
   ],
   "source": [
    "d"
   ]
  },
  {
   "cell_type": "markdown",
   "id": "95aed5e9",
   "metadata": {},
   "source": [
    "# Set"
   ]
  },
  {
   "cell_type": "code",
   "execution_count": 85,
   "id": "03dc4d3b",
   "metadata": {},
   "outputs": [
    {
     "name": "stdout",
     "output_type": "stream",
     "text": [
      "{1, 2, 3, 4, 5} <class 'set'>\n"
     ]
    }
   ],
   "source": [
    "# Values kept inside the {} is known as a set\n",
    "# Set does not allow the duplicates values\n",
    "s={1,2,3,4,5}\n",
    "print(s,type(s))"
   ]
  },
  {
   "cell_type": "code",
   "execution_count": 86,
   "id": "59f8c1b2",
   "metadata": {},
   "outputs": [
    {
     "name": "stdout",
     "output_type": "stream",
     "text": [
      "{1, 2, 3, 4, 5, 6, 42, 31}\n"
     ]
    }
   ],
   "source": [
    "s={1,2,3,4,5,1,2,31,1,1,1,2,2,2,3,3,3,42,2,3,4,5,6}\n",
    "print(s)"
   ]
  },
  {
   "cell_type": "code",
   "execution_count": 87,
   "id": "3b6b4d5b",
   "metadata": {},
   "outputs": [],
   "source": [
    "s.add(100)"
   ]
  },
  {
   "cell_type": "code",
   "execution_count": 88,
   "id": "9ed60d4f",
   "metadata": {},
   "outputs": [
    {
     "data": {
      "text/plain": [
       "{1, 2, 3, 4, 5, 6, 31, 42, 100}"
      ]
     },
     "execution_count": 88,
     "metadata": {},
     "output_type": "execute_result"
    }
   ],
   "source": [
    "s"
   ]
  },
  {
   "cell_type": "code",
   "execution_count": 89,
   "id": "8c12df35",
   "metadata": {},
   "outputs": [],
   "source": [
    "s.remove(3)"
   ]
  },
  {
   "cell_type": "code",
   "execution_count": 90,
   "id": "4fa67a25",
   "metadata": {},
   "outputs": [
    {
     "data": {
      "text/plain": [
       "{1, 2, 4, 5, 6, 31, 42, 100}"
      ]
     },
     "execution_count": 90,
     "metadata": {},
     "output_type": "execute_result"
    }
   ],
   "source": [
    "s"
   ]
  },
  {
   "cell_type": "code",
   "execution_count": 92,
   "id": "5927eaf4",
   "metadata": {},
   "outputs": [],
   "source": [
    "s.remove(31)"
   ]
  },
  {
   "cell_type": "code",
   "execution_count": 93,
   "id": "f3916cc2",
   "metadata": {},
   "outputs": [
    {
     "data": {
      "text/plain": [
       "{1, 2, 4, 5, 6, 42, 100}"
      ]
     },
     "execution_count": 93,
     "metadata": {},
     "output_type": "execute_result"
    }
   ],
   "source": [
    "s"
   ]
  },
  {
   "cell_type": "code",
   "execution_count": 94,
   "id": "c6fe081d",
   "metadata": {},
   "outputs": [],
   "source": [
    "s.add('Python')"
   ]
  },
  {
   "cell_type": "code",
   "execution_count": 95,
   "id": "92e92fea",
   "metadata": {},
   "outputs": [
    {
     "data": {
      "text/plain": [
       "{1, 100, 2, 4, 42, 5, 6, 'Python'}"
      ]
     },
     "execution_count": 95,
     "metadata": {},
     "output_type": "execute_result"
    }
   ],
   "source": [
    "s"
   ]
  },
  {
   "cell_type": "code",
   "execution_count": 96,
   "id": "010e8b39",
   "metadata": {},
   "outputs": [
    {
     "ename": "TypeError",
     "evalue": "'set' object is not subscriptable",
     "output_type": "error",
     "traceback": [
      "\u001b[1;31m---------------------------------------------------------------------------\u001b[0m",
      "\u001b[1;31mTypeError\u001b[0m                                 Traceback (most recent call last)",
      "\u001b[1;32m~\\AppData\\Local\\Temp\\ipykernel_22376\\243613605.py\u001b[0m in \u001b[0;36m<module>\u001b[1;34m\u001b[0m\n\u001b[1;32m----> 1\u001b[1;33m \u001b[0ms\u001b[0m\u001b[1;33m[\u001b[0m\u001b[1;36m0\u001b[0m\u001b[1;33m]\u001b[0m\u001b[1;33m\u001b[0m\u001b[1;33m\u001b[0m\u001b[0m\n\u001b[0m",
      "\u001b[1;31mTypeError\u001b[0m: 'set' object is not subscriptable"
     ]
    }
   ],
   "source": [
    "s[0]"
   ]
  },
  {
   "cell_type": "markdown",
   "id": "9ce45ec5",
   "metadata": {},
   "source": [
    "# Range"
   ]
  },
  {
   "cell_type": "markdown",
   "id": "516f9cbd",
   "metadata": {},
   "source": [
    "# range(start,stop,step)"
   ]
  },
  {
   "cell_type": "code",
   "execution_count": 98,
   "id": "c1f16123",
   "metadata": {},
   "outputs": [],
   "source": [
    "# range() is used to create a sequence of integer values\n",
    "# Stop value is excluded"
   ]
  },
  {
   "cell_type": "code",
   "execution_count": 104,
   "id": "dfbb3c28",
   "metadata": {},
   "outputs": [
    {
     "data": {
      "text/plain": [
       "[1, 2, 3, 4, 5, 6, 7, 8, 9, 10]"
      ]
     },
     "execution_count": 104,
     "metadata": {},
     "output_type": "execute_result"
    }
   ],
   "source": [
    "# Create a sequence of numbers from 1 to 10\n",
    "list(range(1,11))"
   ]
  },
  {
   "cell_type": "code",
   "execution_count": 106,
   "id": "13237863",
   "metadata": {},
   "outputs": [
    {
     "data": {
      "text/plain": [
       "[2, 4, 6, 8, 10, 12, 14, 16, 18, 20]"
      ]
     },
     "execution_count": 106,
     "metadata": {},
     "output_type": "execute_result"
    }
   ],
   "source": [
    "# Create a sequence of even numbers from 1 to 20\n",
    "list(range(2,21,2))"
   ]
  },
  {
   "cell_type": "code",
   "execution_count": 107,
   "id": "7450e4b0",
   "metadata": {},
   "outputs": [
    {
     "data": {
      "text/plain": [
       "[10, 9, 8, 7, 6, 5, 4, 3, 2, 1]"
      ]
     },
     "execution_count": 107,
     "metadata": {},
     "output_type": "execute_result"
    }
   ],
   "source": [
    "# [10,9,8,7,6,5,4,3,2,1]\n",
    "list(range(10,0,-1))"
   ]
  },
  {
   "cell_type": "markdown",
   "id": "48159a3c",
   "metadata": {},
   "source": [
    "# Typecasting"
   ]
  },
  {
   "cell_type": "code",
   "execution_count": 108,
   "id": "9afffc16",
   "metadata": {},
   "outputs": [],
   "source": [
    "# Converting the datatype of a value is known as typecasting"
   ]
  },
  {
   "cell_type": "markdown",
   "id": "7d13f43b",
   "metadata": {},
   "source": [
    "# int()"
   ]
  },
  {
   "cell_type": "code",
   "execution_count": 109,
   "id": "3dd3d553",
   "metadata": {},
   "outputs": [],
   "source": [
    "#it typecast to int"
   ]
  },
  {
   "cell_type": "code",
   "execution_count": 113,
   "id": "6ff560bc",
   "metadata": {},
   "outputs": [
    {
     "name": "stdout",
     "output_type": "stream",
     "text": [
      "4.9 <class 'float'>\n",
      "4 <class 'int'>\n",
      "10 <class 'int'>\n"
     ]
    }
   ],
   "source": [
    "a=4.9\n",
    "print(a,type(a))\n",
    "\n",
    "b=int(a)\n",
    "print(b,type(b))\n",
    "\n",
    "\n",
    "a='10'\n",
    "b=int(a)\n",
    "print(b,type(b))"
   ]
  },
  {
   "cell_type": "code",
   "execution_count": 115,
   "id": "a545f1be",
   "metadata": {},
   "outputs": [
    {
     "name": "stdout",
     "output_type": "stream",
     "text": [
      "enter a number: 5\n",
      "enter a number: 5\n",
      "55\n"
     ]
    }
   ],
   "source": [
    "a=input(\"enter a number: \")\n",
    "b=input(\"enter a number: \")\n",
    "c=a+b\n",
    "print(c)"
   ]
  },
  {
   "cell_type": "code",
   "execution_count": 116,
   "id": "1619f23c",
   "metadata": {},
   "outputs": [
    {
     "data": {
      "text/plain": [
       "'55'"
      ]
     },
     "execution_count": 116,
     "metadata": {},
     "output_type": "execute_result"
    }
   ],
   "source": [
    "'5' + '5'"
   ]
  },
  {
   "cell_type": "code",
   "execution_count": 118,
   "id": "d5868b8e",
   "metadata": {},
   "outputs": [
    {
     "name": "stdout",
     "output_type": "stream",
     "text": [
      "enter a number: 5\n",
      "enter a number: 5\n",
      "10\n"
     ]
    }
   ],
   "source": [
    "a=int(input(\"enter a number: \"))\n",
    "b=int(input(\"enter a number: \"))\n",
    "c=a+b\n",
    "print(c)"
   ]
  },
  {
   "cell_type": "code",
   "execution_count": 119,
   "id": "c001c915",
   "metadata": {},
   "outputs": [
    {
     "data": {
      "text/plain": [
       "10"
      ]
     },
     "execution_count": 119,
     "metadata": {},
     "output_type": "execute_result"
    }
   ],
   "source": [
    "int('5') + int('5')"
   ]
  },
  {
   "cell_type": "code",
   "execution_count": 122,
   "id": "a50948b4",
   "metadata": {},
   "outputs": [
    {
     "name": "stdout",
     "output_type": "stream",
     "text": [
      "1 <class 'int'>\n"
     ]
    }
   ],
   "source": [
    "a=True\n",
    "b=int(True)\n",
    "print(b,type(b))"
   ]
  },
  {
   "cell_type": "code",
   "execution_count": 123,
   "id": "43b4c15f",
   "metadata": {},
   "outputs": [
    {
     "name": "stdout",
     "output_type": "stream",
     "text": [
      "0 <class 'int'>\n"
     ]
    }
   ],
   "source": [
    "a=False\n",
    "b=int(False)\n",
    "print(b,type(b))"
   ]
  },
  {
   "cell_type": "markdown",
   "id": "6d414488",
   "metadata": {},
   "source": [
    "# float()"
   ]
  },
  {
   "cell_type": "markdown",
   "id": "f20e22cc",
   "metadata": {},
   "source": [
    "- it typecast to float"
   ]
  },
  {
   "cell_type": "code",
   "execution_count": 124,
   "id": "dea0fdca",
   "metadata": {},
   "outputs": [
    {
     "name": "stdout",
     "output_type": "stream",
     "text": [
      "10 <class 'int'>\n"
     ]
    }
   ],
   "source": [
    "a=10\n",
    "print(a,type(a))"
   ]
  },
  {
   "cell_type": "code",
   "execution_count": 125,
   "id": "82c92da9",
   "metadata": {},
   "outputs": [
    {
     "name": "stdout",
     "output_type": "stream",
     "text": [
      "10.0 <class 'float'>\n"
     ]
    }
   ],
   "source": [
    "b=float(a)\n",
    "print(b,type(b))"
   ]
  },
  {
   "cell_type": "code",
   "execution_count": 129,
   "id": "db4a44d7",
   "metadata": {},
   "outputs": [
    {
     "name": "stdout",
     "output_type": "stream",
     "text": [
      "10.5 <class 'str'>\n",
      "10.5 <class 'float'>\n"
     ]
    }
   ],
   "source": [
    "a='10.5'\n",
    "print(a,type(a))\n",
    "b=float(a)\n",
    "print(b,type(b))"
   ]
  },
  {
   "cell_type": "code",
   "execution_count": 132,
   "id": "7209f85d",
   "metadata": {},
   "outputs": [
    {
     "name": "stdout",
     "output_type": "stream",
     "text": [
      "10 <class 'int'>\n"
     ]
    }
   ],
   "source": [
    "a='10.5'\n",
    "c=int(float(a))\n",
    "print(c,type(c))"
   ]
  },
  {
   "cell_type": "code",
   "execution_count": 133,
   "id": "fee8d9fd",
   "metadata": {},
   "outputs": [
    {
     "ename": "ValueError",
     "evalue": "could not convert string to float: 'abc'",
     "output_type": "error",
     "traceback": [
      "\u001b[1;31m---------------------------------------------------------------------------\u001b[0m",
      "\u001b[1;31mValueError\u001b[0m                                Traceback (most recent call last)",
      "\u001b[1;32m~\\AppData\\Local\\Temp\\ipykernel_22376\\2229899255.py\u001b[0m in \u001b[0;36m<module>\u001b[1;34m\u001b[0m\n\u001b[0;32m      1\u001b[0m \u001b[0ma\u001b[0m\u001b[1;33m=\u001b[0m\u001b[1;34m'abc'\u001b[0m\u001b[1;33m\u001b[0m\u001b[1;33m\u001b[0m\u001b[0m\n\u001b[1;32m----> 2\u001b[1;33m \u001b[0mfloat\u001b[0m\u001b[1;33m(\u001b[0m\u001b[0ma\u001b[0m\u001b[1;33m)\u001b[0m\u001b[1;33m\u001b[0m\u001b[1;33m\u001b[0m\u001b[0m\n\u001b[0m",
      "\u001b[1;31mValueError\u001b[0m: could not convert string to float: 'abc'"
     ]
    }
   ],
   "source": [
    "a='abc'\n",
    "float(a)"
   ]
  },
  {
   "cell_type": "markdown",
   "id": "c69873b6",
   "metadata": {},
   "source": [
    "# complex(a,b)"
   ]
  },
  {
   "cell_type": "markdown",
   "id": "e4f40498",
   "metadata": {},
   "source": [
    "- it typecast to complex\n",
    "- where a is real number and b is the imaginary number"
   ]
  },
  {
   "cell_type": "code",
   "execution_count": 134,
   "id": "29054bdd",
   "metadata": {},
   "outputs": [
    {
     "name": "stdout",
     "output_type": "stream",
     "text": [
      "(10+20j)\n"
     ]
    }
   ],
   "source": [
    "a=10\n",
    "b=20\n",
    "c=complex(a,b)\n",
    "print(c)"
   ]
  },
  {
   "cell_type": "code",
   "execution_count": 135,
   "id": "b29e7c84",
   "metadata": {},
   "outputs": [
    {
     "ename": "TypeError",
     "evalue": "complex() can't take second arg if first is a string",
     "output_type": "error",
     "traceback": [
      "\u001b[1;31m---------------------------------------------------------------------------\u001b[0m",
      "\u001b[1;31mTypeError\u001b[0m                                 Traceback (most recent call last)",
      "\u001b[1;32m~\\AppData\\Local\\Temp\\ipykernel_22376\\3333864911.py\u001b[0m in \u001b[0;36m<module>\u001b[1;34m\u001b[0m\n\u001b[1;32m----> 1\u001b[1;33m \u001b[0mcomplex\u001b[0m\u001b[1;33m(\u001b[0m\u001b[1;34m'x'\u001b[0m\u001b[1;33m,\u001b[0m\u001b[1;34m'y'\u001b[0m\u001b[1;33m)\u001b[0m\u001b[1;33m\u001b[0m\u001b[1;33m\u001b[0m\u001b[0m\n\u001b[0m",
      "\u001b[1;31mTypeError\u001b[0m: complex() can't take second arg if first is a string"
     ]
    }
   ],
   "source": [
    "complex('x','y')"
   ]
  },
  {
   "cell_type": "markdown",
   "id": "476e305f",
   "metadata": {},
   "source": [
    "# str()"
   ]
  },
  {
   "cell_type": "markdown",
   "id": "6189205e",
   "metadata": {},
   "source": [
    "- it typecast to string"
   ]
  },
  {
   "cell_type": "code",
   "execution_count": 137,
   "id": "04015c9c",
   "metadata": {},
   "outputs": [
    {
     "name": "stdout",
     "output_type": "stream",
     "text": [
      "10 <class 'int'>\n",
      "10 <class 'str'>\n"
     ]
    }
   ],
   "source": [
    "a=10\n",
    "print(a,type(a))\n",
    "\n",
    "b=str(a)\n",
    "print(b,type(b))"
   ]
  },
  {
   "cell_type": "code",
   "execution_count": 139,
   "id": "0722f626",
   "metadata": {},
   "outputs": [
    {
     "name": "stdout",
     "output_type": "stream",
     "text": [
      "10.55 <class 'float'>\n",
      "10.55 <class 'str'>\n"
     ]
    }
   ],
   "source": [
    "a=10.55\n",
    "print(a,type(a))\n",
    "\n",
    "b=str(a)\n",
    "print(b,type(b))"
   ]
  },
  {
   "cell_type": "code",
   "execution_count": 141,
   "id": "afaa0de0",
   "metadata": {},
   "outputs": [
    {
     "name": "stdout",
     "output_type": "stream",
     "text": [
      "True <class 'str'>\n"
     ]
    }
   ],
   "source": [
    "a=True\n",
    "c=str(a)\n",
    "print(c,type(c))"
   ]
  },
  {
   "cell_type": "markdown",
   "id": "9ae37c1f",
   "metadata": {},
   "source": [
    "# bool()"
   ]
  },
  {
   "cell_type": "markdown",
   "id": "f2332c04",
   "metadata": {},
   "source": [
    "- it typecast to boolean"
   ]
  },
  {
   "cell_type": "code",
   "execution_count": 151,
   "id": "f965baf9",
   "metadata": {},
   "outputs": [
    {
     "name": "stdout",
     "output_type": "stream",
     "text": [
      "True\n"
     ]
    }
   ],
   "source": [
    "print(bool(-1))"
   ]
  },
  {
   "cell_type": "code",
   "execution_count": 157,
   "id": "f4e8077a",
   "metadata": {},
   "outputs": [
    {
     "name": "stdout",
     "output_type": "stream",
     "text": [
      "False\n"
     ]
    }
   ],
   "source": [
    "print(bool(''))"
   ]
  },
  {
   "cell_type": "code",
   "execution_count": 159,
   "id": "0788fa73",
   "metadata": {},
   "outputs": [
    {
     "name": "stdout",
     "output_type": "stream",
     "text": [
      "True\n"
     ]
    }
   ],
   "source": [
    "print(bool(' '))"
   ]
  },
  {
   "cell_type": "code",
   "execution_count": 152,
   "id": "3cd41029",
   "metadata": {},
   "outputs": [
    {
     "name": "stdout",
     "output_type": "stream",
     "text": [
      "True\n"
     ]
    }
   ],
   "source": [
    "print(bool(100))"
   ]
  },
  {
   "cell_type": "code",
   "execution_count": 160,
   "id": "ba5fab34",
   "metadata": {},
   "outputs": [
    {
     "name": "stdout",
     "output_type": "stream",
     "text": [
      "False\n"
     ]
    }
   ],
   "source": [
    "print(bool(None))"
   ]
  },
  {
   "cell_type": "code",
   "execution_count": 161,
   "id": "51533527",
   "metadata": {},
   "outputs": [
    {
     "name": "stdout",
     "output_type": "stream",
     "text": [
      "enter a number: python is \n",
      "enter a number: amazing\n",
      "python is amazing\n"
     ]
    }
   ],
   "source": [
    "a=input(\"enter a number: \")\n",
    "b=input(\"enter a number: \")\n",
    "c=a+b\n",
    "print(c)"
   ]
  },
  {
   "cell_type": "code",
   "execution_count": 163,
   "id": "c1ceb6c5",
   "metadata": {},
   "outputs": [
    {
     "name": "stdout",
     "output_type": "stream",
     "text": [
      "pythonis amazing\n"
     ]
    }
   ],
   "source": [
    "a=\"pythonis\"\n",
    "b= \" \"\n",
    "c=\"amazing\"\n",
    "print(a+b+c)"
   ]
  },
  {
   "cell_type": "code",
   "execution_count": 164,
   "id": "9a1ccb4e",
   "metadata": {},
   "outputs": [
    {
     "name": "stdout",
     "output_type": "stream",
     "text": [
      "True\n"
     ]
    }
   ],
   "source": [
    "print(bool('0'))"
   ]
  },
  {
   "cell_type": "code",
   "execution_count": 165,
   "id": "e2157ee7",
   "metadata": {},
   "outputs": [
    {
     "name": "stdout",
     "output_type": "stream",
     "text": [
      "False\n"
     ]
    }
   ],
   "source": [
    "print(bool([]))"
   ]
  },
  {
   "cell_type": "code",
   "execution_count": 166,
   "id": "1d84ca71",
   "metadata": {},
   "outputs": [
    {
     "name": "stdout",
     "output_type": "stream",
     "text": [
      "False\n"
     ]
    }
   ],
   "source": [
    "print(bool((0)))"
   ]
  },
  {
   "cell_type": "code",
   "execution_count": 167,
   "id": "3bae0d09",
   "metadata": {},
   "outputs": [
    {
     "name": "stdout",
     "output_type": "stream",
     "text": [
      "True\n"
     ]
    }
   ],
   "source": [
    "print(bool((0,)))"
   ]
  },
  {
   "cell_type": "code",
   "execution_count": 170,
   "id": "ab575627",
   "metadata": {},
   "outputs": [
    {
     "name": "stdout",
     "output_type": "stream",
     "text": [
      "0 <class 'int'>\n",
      "(0,) <class 'tuple'>\n"
     ]
    }
   ],
   "source": [
    "a=(0)\n",
    "b=(0,)\n",
    "print(a,type(a))\n",
    "print(b,type(b))"
   ]
  },
  {
   "cell_type": "code",
   "execution_count": null,
   "id": "5ea584fd",
   "metadata": {},
   "outputs": [],
   "source": []
  },
  {
   "cell_type": "code",
   "execution_count": null,
   "id": "44fc4a3a",
   "metadata": {},
   "outputs": [],
   "source": []
  },
  {
   "cell_type": "code",
   "execution_count": null,
   "id": "6d21e241",
   "metadata": {},
   "outputs": [],
   "source": []
  },
  {
   "cell_type": "code",
   "execution_count": null,
   "id": "237333ab",
   "metadata": {},
   "outputs": [],
   "source": []
  },
  {
   "cell_type": "code",
   "execution_count": null,
   "id": "642ba6ab",
   "metadata": {},
   "outputs": [],
   "source": []
  },
  {
   "cell_type": "code",
   "execution_count": null,
   "id": "64d45b9a",
   "metadata": {},
   "outputs": [],
   "source": []
  }
 ],
 "metadata": {
  "kernelspec": {
   "display_name": "Python 3 (ipykernel)",
   "language": "python",
   "name": "python3"
  },
  "language_info": {
   "codemirror_mode": {
    "name": "ipython",
    "version": 3
   },
   "file_extension": ".py",
   "mimetype": "text/x-python",
   "name": "python",
   "nbconvert_exporter": "python",
   "pygments_lexer": "ipython3",
   "version": "3.11.7"
  }
 },
 "nbformat": 4,
 "nbformat_minor": 5
}
